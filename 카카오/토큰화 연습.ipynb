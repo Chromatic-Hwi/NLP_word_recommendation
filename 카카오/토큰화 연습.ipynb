{
 "cells": [
  {
   "cell_type": "code",
   "execution_count": 10,
   "id": "6eb953b6",
   "metadata": {},
   "outputs": [
    {
     "data": {
      "text/plain": [
       "{'this': 5,\n",
       " 'is': 2,\n",
       " 'the': 4,\n",
       " 'last': 3,\n",
       " 'chance': 0,\n",
       " 'you': 6,\n",
       " 'have': 1,\n",
       " '다른': 11,\n",
       " '아헤는': 18,\n",
       " '나를': 8,\n",
       " '보고': 16,\n",
       " '먹어라': 14,\n",
       " '그러오': 7,\n",
       " '먹는': 13,\n",
       " '아헤가': 17,\n",
       " '아헤보다': 19,\n",
       " '얼굴은': 20,\n",
       " '낫던데': 9,\n",
       " '먹고': 12,\n",
       " '다니니': 10,\n",
       " '얼굴이': 21,\n",
       " '별로더라': 15}"
      ]
     },
     "execution_count": 10,
     "metadata": {},
     "output_type": "execute_result"
    }
   ],
   "source": [
    "from sklearn.feature_extraction.text import CountVectorizer\n",
    "corpus = [\n",
    "    'This is the last chance you have',\n",
    "    '다른 아헤는 나를 보고 밥 좀 먹어라 그러오',\n",
    "    '밥 먹는 아헤가 다른 아헤보다 얼굴은 낫던데',\n",
    "    '밥 안 먹고 다니니 얼굴이 별로더라'\n",
    "]\n",
    "vect = CountVectorizer()\n",
    "vect.fit(corpus)\n",
    "vect.vocabulary_"
   ]
  },
  {
   "cell_type": "code",
   "execution_count": 8,
   "id": "57a24a05",
   "metadata": {},
   "outputs": [
    {
     "data": {
      "text/plain": [
       "array([[0, 0, 1, 0, 1, 0, 0, 1, 0, 0, 0, 0, 1, 0, 1, 1, 0]], dtype=int64)"
      ]
     },
     "execution_count": 8,
     "metadata": {},
     "output_type": "execute_result"
    }
   ],
   "source": [
    "vect.transform(['밥 먹는 아헤가 다른 아헤보다 얼굴은 낫던데']).toarray()"
   ]
  },
  {
   "cell_type": "code",
   "execution_count": 11,
   "id": "b8ee64be",
   "metadata": {},
   "outputs": [
    {
     "data": {
      "text/plain": [
       "{'this': 4,\n",
       " 'the': 3,\n",
       " 'last': 2,\n",
       " 'chance': 0,\n",
       " 'you': 5,\n",
       " 'have': 1,\n",
       " '다른': 10,\n",
       " '아헤는': 17,\n",
       " '나를': 7,\n",
       " '보고': 15,\n",
       " '먹어라': 13,\n",
       " '그러오': 6,\n",
       " '먹는': 12,\n",
       " '아헤가': 16,\n",
       " '아헤보다': 18,\n",
       " '얼굴은': 19,\n",
       " '낫던데': 8,\n",
       " '먹고': 11,\n",
       " '다니니': 9,\n",
       " '얼굴이': 20,\n",
       " '별로더라': 14}"
      ]
     },
     "execution_count": 11,
     "metadata": {},
     "output_type": "execute_result"
    }
   ],
   "source": [
    "vect = CountVectorizer(stop_words=[\"가\", \"는\", \"이\", \"은\", \"is\"]).fit(corpus)\n",
    "vect.vocabulary_"
   ]
  },
  {
   "cell_type": "code",
   "execution_count": 3,
   "id": "97c7822e",
   "metadata": {},
   "outputs": [
    {
     "name": "stdout",
     "output_type": "stream",
     "text": [
      "['드디어', '모듈', '을', '성공', '적', '으로', '실행', '했다']\n"
     ]
    }
   ],
   "source": [
    "from konlpy.tag import Okt\n",
    "okt = Okt()  \n",
    "token = okt.morphs(\"드디어 모듈을 성공적으로 실행했다\")  \n",
    "print(token)"
   ]
  },
  {
   "cell_type": "code",
   "execution_count": null,
   "id": "f0a79ea0",
   "metadata": {},
   "outputs": [],
   "source": []
  }
 ],
 "metadata": {
  "kernelspec": {
   "display_name": "Python 3 (ipykernel)",
   "language": "python",
   "name": "python3"
  },
  "language_info": {
   "codemirror_mode": {
    "name": "ipython",
    "version": 3
   },
   "file_extension": ".py",
   "mimetype": "text/x-python",
   "name": "python",
   "nbconvert_exporter": "python",
   "pygments_lexer": "ipython3",
   "version": "3.8.11"
  }
 },
 "nbformat": 4,
 "nbformat_minor": 5
}
