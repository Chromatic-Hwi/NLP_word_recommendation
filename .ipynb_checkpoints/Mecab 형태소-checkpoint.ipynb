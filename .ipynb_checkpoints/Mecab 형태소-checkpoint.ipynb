{
 "cells": [
  {
   "cell_type": "code",
   "execution_count": 2,
   "id": "958b1072",
   "metadata": {},
   "outputs": [
    {
     "name": "stdout",
     "output_type": "stream",
     "text": [
      "Collecting eunjeon\n",
      "  Using cached eunjeon-0.4.0.tar.gz (34.7 MB)\n",
      "Building wheels for collected packages: eunjeon\n",
      "  Building wheel for eunjeon (setup.py): started\n",
      "  Building wheel for eunjeon (setup.py): finished with status 'done'\n",
      "  Created wheel for eunjeon: filename=eunjeon-0.4.0-cp39-cp39-win_amd64.whl size=35021861 sha256=5e5df7d57bb890d740b7a3ad4ea8ef2bc884c20e861742b93947fb070da82879\n",
      "  Stored in directory: c:\\users\\hwi\\appdata\\local\\pip\\cache\\wheels\\51\\05\\fb\\48ff3bf6804f7cea4a3f7be6300a5b19618007c35d2064a753\n",
      "Successfully built eunjeon\n",
      "Installing collected packages: eunjeon\n",
      "Successfully installed eunjeon-0.4.0\n"
     ]
    }
   ],
   "source": [
    "!pip install eunjeon"
   ]
  },
  {
   "cell_type": "code",
   "execution_count": 5,
   "id": "b97ec281",
   "metadata": {},
   "outputs": [
    {
     "data": {
      "text/plain": [
       "['명사', '해당', '형태소', '추출']"
      ]
     },
     "execution_count": 5,
     "metadata": {},
     "output_type": "execute_result"
    }
   ],
   "source": [
    "from eunjeon import Mecab \n",
    "M = Mecab() \n",
    "#mecab.pos(\"품사 태깅을 지원합니다\") \n",
    "#mecab.morphs(\"형태소 분리를 지원합니다\") \n",
    "M.nouns(\"명사에 해당하는 형태소만 추출합니다\")"
   ]
  },
  {
   "cell_type": "code",
   "execution_count": 8,
   "id": "ef9d23f6",
   "metadata": {},
   "outputs": [
    {
     "data": {
      "text/plain": [
       "[('I', 'SL'),\n",
       " (\"'\", 'SY'),\n",
       " ('m', 'SL'),\n",
       " ('on', 'SL'),\n",
       " ('the', 'SL'),\n",
       " ('next', 'SL'),\n",
       " ('level', 'SL'),\n",
       " ('저', 'MM'),\n",
       " ('너머', 'NNG'),\n",
       " ('의', 'JKG'),\n",
       " ('문', 'NNG'),\n",
       " ('을', 'JKO'),\n",
       " ('열', 'VV'),\n",
       " ('어', 'EC'),\n",
       " ('Next', 'SL'),\n",
       " ('level', 'SL'),\n",
       " ('널', 'VV+ETM'),\n",
       " ('결국', 'NNG'),\n",
       " ('엔', 'JKB+JX'),\n",
       " ('내', 'NP'),\n",
       " ('가', 'JKS'),\n",
       " ('부셔', 'VV+EC')]"
      ]
     },
     "execution_count": 8,
     "metadata": {},
     "output_type": "execute_result"
    }
   ],
   "source": [
    "M.pos(\"I'm on the next level 저 너머의 문을 열어Next level 널 결국엔 내가 부셔\")"
   ]
  }
 ],
 "metadata": {
  "kernelspec": {
   "display_name": "Python 3 (ipykernel)",
   "language": "python",
   "name": "python3"
  },
  "language_info": {
   "codemirror_mode": {
    "name": "ipython",
    "version": 3
   },
   "file_extension": ".py",
   "mimetype": "text/x-python",
   "name": "python",
   "nbconvert_exporter": "python",
   "pygments_lexer": "ipython3",
   "version": "3.9.7"
  }
 },
 "nbformat": 4,
 "nbformat_minor": 5
}
