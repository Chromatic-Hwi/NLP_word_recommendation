{
 "cells": [
  {
   "cell_type": "code",
   "execution_count": 4,
   "id": "b97ec281",
   "metadata": {},
   "outputs": [
    {
     "data": {
      "text/plain": [
       "['명사', '해당', '형태소', '추출']"
      ]
     },
     "execution_count": 4,
     "metadata": {},
     "output_type": "execute_result"
    }
   ],
   "source": [
    "from eunjeon import Mecab \n",
    "mecab = Mecab() \n",
    "#mecab.pos(\"품사 태깅을 지원합니다\") \n",
    "#mecab.morphs(\"형태소 분리를 지원합니다\") \n",
    "mecab.nouns(\"명사에 해당하는 형태소만 추출합니다\")"
   ]
  }
 ],
 "metadata": {
  "kernelspec": {
   "display_name": "Python 3 (ipykernel)",
   "language": "python",
   "name": "python3"
  },
  "language_info": {
   "codemirror_mode": {
    "name": "ipython",
    "version": 3
   },
   "file_extension": ".py",
   "mimetype": "text/x-python",
   "name": "python",
   "nbconvert_exporter": "python",
   "pygments_lexer": "ipython3",
   "version": "3.8.11"
  }
 },
 "nbformat": 4,
 "nbformat_minor": 5
}
